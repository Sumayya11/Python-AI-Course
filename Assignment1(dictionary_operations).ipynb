{
 "cells": [
  {
   "cell_type": "code",
   "execution_count": 1,
   "id": "eb4acbdb",
   "metadata": {},
   "outputs": [
    {
     "name": "stdout",
     "output_type": "stream",
     "text": [
      "{'animal': 'cat', 'order': 'carnivora', 'kingdom': 'animalia', 'avg life in years': 15, 'family': 'felidae'}\n",
      "{'animal': 'cat', 'order': 'carnivora', 'avg life in years': 15, 'family': 'felidae'}\n"
     ]
    }
   ],
   "source": [
    "dict1 = {\"animal\": \"cat\",\n",
    "        \"order\": \"carnivora\",\n",
    "        \"kingdom\": \"animalia\",\n",
    "        \"avg life in years\": 15}\n",
    "dict1.update({\"family\":\"felidae\"})\n",
    "print(dict1)\n",
    "dict1.pop(\"kingdom\")\n",
    "print(dict1)"
   ]
  },
  {
   "cell_type": "code",
   "execution_count": null,
   "id": "b0898bae",
   "metadata": {},
   "outputs": [],
   "source": []
  }
 ],
 "metadata": {
  "kernelspec": {
   "display_name": "Python 3 (ipykernel)",
   "language": "python",
   "name": "python3"
  },
  "language_info": {
   "codemirror_mode": {
    "name": "ipython",
    "version": 3
   },
   "file_extension": ".py",
   "mimetype": "text/x-python",
   "name": "python",
   "nbconvert_exporter": "python",
   "pygments_lexer": "ipython3",
   "version": "3.9.7"
  }
 },
 "nbformat": 4,
 "nbformat_minor": 5
}
