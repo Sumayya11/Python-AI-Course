{
 "cells": [
  {
   "cell_type": "code",
   "execution_count": 18,
   "id": "6a82a8ce",
   "metadata": {},
   "outputs": [
    {
     "name": "stdout",
     "output_type": "stream",
     "text": [
      "Enter any number:4\n",
      "24\n"
     ]
    }
   ],
   "source": [
    "def fact(num):\n",
    "    f = 1\n",
    "    if (num<0):\n",
    "        print(\"does not exist\")\n",
    "    elif (num==0):\n",
    "        print(\"Factorial of 0 is 1\")\n",
    "    else:\n",
    "        for i in range(1,num+1):\n",
    "            f=f*i\n",
    "        print(f)\n",
    "num = int(input(\"Enter any number:\"))\n",
    "fact(num)"
   ]
  },
  {
   "cell_type": "code",
   "execution_count": null,
   "id": "62c92603",
   "metadata": {},
   "outputs": [],
   "source": []
  }
 ],
 "metadata": {
  "kernelspec": {
   "display_name": "Python 3 (ipykernel)",
   "language": "python",
   "name": "python3"
  },
  "language_info": {
   "codemirror_mode": {
    "name": "ipython",
    "version": 3
   },
   "file_extension": ".py",
   "mimetype": "text/x-python",
   "name": "python",
   "nbconvert_exporter": "python",
   "pygments_lexer": "ipython3",
   "version": "3.9.7"
  }
 },
 "nbformat": 4,
 "nbformat_minor": 5
}
